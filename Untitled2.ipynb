{
 "cells": [
  {
   "cell_type": "code",
   "execution_count": 1,
   "id": "1f79c483",
   "metadata": {},
   "outputs": [],
   "source": [
    "import pandas as pd\n",
    "import numpy as np\n",
    "from party import p\n"
   ]
  },
  {
   "cell_type": "code",
   "execution_count": 2,
   "id": "69e08fa5",
   "metadata": {},
   "outputs": [],
   "source": [
    "#import dataset\n",
    "df = pd.read_csv(\"./FIFA 2018 Statistics.csv\")\n",
    "feature_names = [i for i in df.columns if df[i].dtype in [np.int64, np.int64]]\n",
    "X = df[feature_names]\n",
    "p1_data = X.iloc[:,: int(X.shape[1]/2)]\n",
    "p2_data = X.iloc[:, int(X.shape[1]/2):]\n",
    "k=3\n",
    "p1 = p(p1_data,k,1)\n",
    "p2 = p(p2_data,k,2)\n",
    "parties = [p1,p2]"
   ]
  },
  {
   "cell_type": "code",
   "execution_count": 3,
   "id": "4e52240a",
   "metadata": {},
   "outputs": [
    {
     "name": "stdout",
     "output_type": "stream",
     "text": [
      "536.5137654110007\n",
      "272.67111055958935\n",
      "127.9096584979711\n",
      "71.61617042834548\n",
      "47.76900056640416\n",
      "24.196431764411738\n",
      "8.031454977329904\n",
      "8.161482871949977\n",
      "4.062970823617699\n",
      "0.0\n"
     ]
    }
   ],
   "source": [
    "#assume all data points are joint\n",
    "threshold = 0.5\n",
    "dist = 1000\n",
    "while dist>threshold:\n",
    "    #FOR EACH PARTY:\n",
    "    #SET CURRENT MEAN TO LAST MEAN\n",
    "    #SET ALL CLUSTES TO EMPTY\n",
    "    #COMPUTE DISTANCE VECTORS FOR EACH POINT W.R.T CLUSTER MEANS\n",
    "    #RETURN DISTANCES HERE\n",
    "    #SEND DISTANCES TO PARTIES\n",
    "    # ASSIGN POINTS TO CLUSTERS W.R.T TO OTHER PARTIES\n",
    "    #SET MEAN PRIME TO MEAN OF NEW CLUSTERS\n",
    "    distances = []\n",
    "    for p in parties:\n",
    "        distances.append(p.iteration())\n",
    "        \n",
    "    clusters = np.zeros((len(distances[0]), k))\n",
    "    for i in range(len(distances[0])):\n",
    "        for p in range(len(parties)):\n",
    "            clusters[i] += distances[p][i]    \n",
    "    cluster_assignment = []\n",
    "    for i in range(len(clusters)):\n",
    "        cluster_assignment.append(np.argmin(clusters[i]))\n",
    "    dist = 0 \n",
    "    for p in parties:\n",
    "        p_dist = p.receive_cluster_assignemt(cluster_assignment)\n",
    "        dist+=p_dist\n",
    "    print(dist)    \n",
    "        \n",
    "    \n"
   ]
  }
 ],
 "metadata": {
  "kernelspec": {
   "display_name": "Python 3 (ipykernel)",
   "language": "python",
   "name": "python3"
  },
  "language_info": {
   "codemirror_mode": {
    "name": "ipython",
    "version": 3
   },
   "file_extension": ".py",
   "mimetype": "text/x-python",
   "name": "python",
   "nbconvert_exporter": "python",
   "pygments_lexer": "ipython3",
   "version": "3.10.8"
  }
 },
 "nbformat": 4,
 "nbformat_minor": 5
}
