{
 "cells": [
  {
   "cell_type": "code",
   "execution_count": 1,
   "metadata": {},
   "outputs": [],
   "source": [
    "import numpy as np\n",
    "\n",
    "shape = (100, 5)\n",
    "n = shape[1]\n",
    "\n",
    "np.random.seed(10)\n",
    "X = np.random.randint(-5,6, size=shape) # Integers from -5 to 5\n",
    "y = np.sum(X, axis=1) # Sum of each row\n",
    "X = X + np.random.normal(0, .1, shape) # Add noise to input\n"
   ]
  },
  {
   "cell_type": "code",
   "execution_count": 11,
   "metadata": {},
   "outputs": [
    {
     "data": {
      "text/plain": [
       "(0.9991058582387404,\n",
       " array([0.99320348, 0.99542534, 0.99506914, 1.00549516, 0.98140095]))"
      ]
     },
     "execution_count": 11,
     "metadata": {},
     "output_type": "execute_result"
    }
   ],
   "source": [
    "from sklearn.linear_model import LinearRegression\n",
    "\n",
    "reg = LinearRegression().fit(X, y)\n",
    "reg.score(X, y), reg.coef_"
   ]
  },
  {
   "cell_type": "code",
   "execution_count": 27,
   "metadata": {},
   "outputs": [],
   "source": [
    "def divisive_shap_approx(X, y, model, beta, gamma_n, gamma_d):\n",
    "    if X.shape[1] > np.emath.logn(beta, n):\n",
    "        split_S = partition(X,y,model)\n",
    "        gamma_n = gamma_n*value(X, y, model)\n",
    "        gamma_d = gamma_d*sum([value(Xi, yi, model) for Xi, yi in split_S])\n",
    "        return union([divisive_shap_approx(Xi, \n",
    "                                           yi, \n",
    "                                           model, \n",
    "                                           gamma_n, \n",
    "                                           gamma_d) for Xi, yi in split_S])\n",
    "    else:\n",
    "        shap = shapley_true(X, y, model)\n",
    "        shap = shap*gamma_n/gamma_d\n",
    "        return (X, y, shap)\n",
    "\n",
    "\n",
    "\n",
    "def value(X, y, model):\n",
    "    reg = model.fit(X, y)\n",
    "    return reg.score(X, y)\n",
    "        \n",
    "\n",
    "def shapley_true(X, y, model):\n",
    "    \"\"\"Returns true shapley value of each feature (numpy array)\"\"\"\n",
    "    pass\n",
    "\n",
    "def partition(X, y, model):\n",
    "    \"\"\"Returns list of tuples: [(Xi, Yi, Shapi), ...]\"\"\"\n",
    "    N = X.shape[1]\n",
    "    return [(X[:,:N//2], y), (X[:,N//2:], y)]\n",
    "\n",
    "def union(S_split):\n",
    "    \"\"\"Returns the union of several sets (Xi, Yi, Shapi)\"\"\"\n",
    "    X = S_split[0][0]\n",
    "    y = S_split[0][1]\n",
    "    shap = S_split[0][2]\n",
    "    for Xi, _, shapi in S_split[1:]:\n",
    "        X = np.concatenate((X, Xi), axis=1)\n",
    "        shap = np.concatenate((shap, shapi))\n",
    "    return (X, y, shap)\n"
   ]
  }
 ],
 "metadata": {
  "kernelspec": {
   "display_name": "Python 3",
   "language": "python",
   "name": "python3"
  },
  "language_info": {
   "codemirror_mode": {
    "name": "ipython",
    "version": 3
   },
   "file_extension": ".py",
   "mimetype": "text/x-python",
   "name": "python",
   "nbconvert_exporter": "python",
   "pygments_lexer": "ipython3",
   "version": "3.10.7"
  },
  "orig_nbformat": 4,
  "vscode": {
   "interpreter": {
    "hash": "0702edab9fc978950761547790bbb428f310dcc860eef6fd26b519a1c4e1fa85"
   }
  }
 },
 "nbformat": 4,
 "nbformat_minor": 2
}
