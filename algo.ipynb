{
 "cells": [
  {
   "cell_type": "code",
   "execution_count": 55,
   "metadata": {},
   "outputs": [],
   "source": [
    "import numpy as np\n",
    "import matplotlib.pyplot as plt\n",
    "\n",
    "shape = (100, 16)\n",
    "n = shape[1]\n",
    "\n",
    "np.random.seed(10)\n",
    "X = np.random.randint(-5,6, size=shape) # Integers from -5 to 5\n",
    "y = np.sum(X, axis=1) # Sum of each row\n",
    "X = X + np.random.normal(0, .1, shape) # Add noise to input\n"
   ]
  },
  {
   "cell_type": "code",
   "execution_count": 56,
   "metadata": {},
   "outputs": [
    {
     "data": {
      "text/plain": [
       "(0.9993316174977624,\n",
       " array([0.98231329, 1.00293103, 1.01089872, 0.99780244, 1.01754801,\n",
       "        1.01399901, 1.01117047, 1.0116978 , 0.97996713, 1.0128416 ,\n",
       "        1.00504136, 1.01933667, 0.98243754, 0.98514289, 1.0177332 ,\n",
       "        1.00559587]))"
      ]
     },
     "execution_count": 56,
     "metadata": {},
     "output_type": "execute_result"
    }
   ],
   "source": [
    "from sklearn.linear_model import LinearRegression\n",
    "\n",
    "reg = LinearRegression().fit(X, y)\n",
    "reg.score(X, y), reg.coef_"
   ]
  },
  {
   "cell_type": "code",
   "execution_count": 78,
   "metadata": {},
   "outputs": [],
   "source": [
    "import itertools\n",
    "import math\n",
    "\n",
    "def divisive_shap_approx(X, y, model, beta, gamma_n, gamma_d):\n",
    "    if X.shape[1] > np.emath.logn(beta, n):\n",
    "        split_S = partition(X,y,model)\n",
    "        gamma_n = gamma_n*value(X, y, model)\n",
    "        gamma_d = gamma_d*sum([value(Xi, yi, model) for Xi, yi in split_S])\n",
    "        return union([divisive_shap_approx(Xi, \n",
    "                                           yi, \n",
    "                                           model,\n",
    "                                           beta,\n",
    "                                           gamma_n, \n",
    "                                           gamma_d) for Xi, yi in split_S])\n",
    "    else:\n",
    "        shap = shapley_true(X, y, model)\n",
    "        shap = shap*gamma_n/gamma_d\n",
    "        return (X, y, shap)\n",
    "\n",
    "def value(X, y, model):\n",
    "    if X.size == 0:\n",
    "        return 0\n",
    "    else:\n",
    "        reg = model.fit(X, y)\n",
    "        return reg.score(X, y)\n",
    "        \n",
    "\n",
    "def findsubsets(s, n):\n",
    "    return list(itertools.combinations(s, n))\n",
    "\n",
    "\n",
    "def shapley_true(X, y, model):\n",
    "    \"\"\"Returns true shapley value of each feature (numpy array)\"\"\"\n",
    "    N = X.shape[1]\n",
    "    shap = np.zeros(N)\n",
    "    for i in range(N):\n",
    "        other_features = set(range(N))\n",
    "        other_features.remove(i)\n",
    "        subsets = [subset for j in range(N) for subset in findsubsets(other_features, j)]\n",
    "        for subset in subsets:\n",
    "            coeff = math.factorial(len(subset))*math.factorial(N - len(subset) - 1)/math.factorial(N)\n",
    "            shap[i] += coeff*(value(X[:,list(subset) + [i]], y, model)-value(X[:, list(subset)], y, model))\n",
    "    return np.array(shap)\n",
    "\n",
    "def partition(X, y, model):\n",
    "    \"\"\"Returns list of tuples: [(X1, Y1), (X2, Y2), ...]\"\"\"\n",
    "    N = X.shape[1]\n",
    "    return [(X[:,:N//2], y), (X[:,N//2:], y)]\n",
    "\n",
    "def union(S_split):\n",
    "    \"\"\"Returns the union of several sets (Xi, Yi, Shapi)\"\"\"\n",
    "    X = S_split[0][0]\n",
    "    y = S_split[0][1]\n",
    "    shap = S_split[0][2]\n",
    "    for Xi, _, shapi in S_split[1:]:\n",
    "        X = np.concatenate((X, Xi), axis=1)\n",
    "        shap = np.concatenate((shap, shapi))\n",
    "    return (X, y, shap)\n"
   ]
  },
  {
   "cell_type": "code",
   "execution_count": 80,
   "metadata": {},
   "outputs": [],
   "source": [
    "def main(X, y, model, beta):\n",
    "    X2, y2, shap = divisive_shap_approx(X, y, model, beta, 1, 1)\n",
    "    w = sum(shap)\n",
    "    vN = value(X, y, model)\n",
    "    if w != vN:\n",
    "        if w == 0:\n",
    "            shap = np.array([vN/X.shape[1]]*X.shape[1])\n",
    "        gamma = vN/w\n",
    "        shap = shap*gamma\n",
    "    return (X2, y2, shap)"
   ]
  },
  {
   "cell_type": "code",
   "execution_count": 88,
   "metadata": {},
   "outputs": [
    {
     "data": {
      "image/png": "[encoded data removed]",
      "text/plain": [
       "<Figure size 640x480 with 1 Axes>"
      ]
     },
     "metadata": {},
     "output_type": "display_data"
    }
   ],
   "source": [
    "shape = (10000, 64)\n",
    "n = shape[1]\n",
    "\n",
    "np.random.seed(10)\n",
    "X = np.random.randint(-5,6, size=shape) # Integers from -5 to 5\n",
    "y = np.sum(X, axis=1) # Sum of each row\n",
    "X = X + np.random.normal(0, .1, shape) # Add noise to input\n",
    "\n",
    "X, y, shap = main(X, y, LinearRegression(), n**(1/np.sqrt(n)))\n",
    "\n",
    "plt.hist(shap)\n",
    "plt.show()\n"
   ]
  },
  {
   "cell_type": "code",
   "execution_count": 89,
   "metadata": {},
   "outputs": [
    {
     "data": {
      "image/png": "[encoded data removed]",
      "text/plain": [
       "<Figure size 640x480 with 1 Axes>"
      ]
     },
     "metadata": {},
     "output_type": "display_data"
    }
   ],
   "source": [
    "shape = (10000, 64)\n",
    "n = shape[1]\n",
    "\n",
    "np.random.seed(10)\n",
    "X = np.random.randint(-5,6, size=shape) # Integers from -5 to 5\n",
    "X[:,0] = X[:,0]*10\n",
    "y = np.sum(X, axis=1) # Sum of each row\n",
    "X = X + np.random.normal(0, .1, shape) # Add noise to input\n",
    "\n",
    "X, y, shap = main(X, y, LinearRegression(), n**(1/np.sqrt(n)))\n",
    "\n",
    "plt.hist(shap)\n",
    "plt.show()"
   ]
  }
 ],
 "metadata": {
  "kernelspec": {
   "display_name": "Python 3",
   "language": "python",
   "name": "python3"
  },
  "language_info": {
   "codemirror_mode": {
    "name": "ipython",
    "version": 3
   },
   "file_extension": ".py",
   "mimetype": "text/x-python",
   "name": "python",
   "nbconvert_exporter": "python",
   "pygments_lexer": "ipython3",
   "version": "3.9.11"
  },
  "orig_nbformat": 4,
  "vscode": {
   "interpreter": {
    "hash": "0702edab9fc978950761547790bbb428f310dcc860eef6fd26b519a1c4e1fa85"
   }
  }
 },
 "nbformat": 4,
 "nbformat_minor": 2
}
