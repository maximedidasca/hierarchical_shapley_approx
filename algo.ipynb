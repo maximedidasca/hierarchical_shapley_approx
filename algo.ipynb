{
 "cells": [
  {
   "cell_type": "code",
   "execution_count": 25,
   "metadata": {},
   "outputs": [],
   "source": [
    "import numpy as np\n",
    "\n",
    "shape = (100, 5)\n",
    "\n",
    "np.random.seed(10)\n",
    "X = np.random.randint(-5,6, size=shape) # Integers from -5 to 5\n",
    "y = np.sum(X, axis=1) # Sum of each row\n",
    "X = X + np.random.normal(0, .1, shape) # Add noise to input"
   ]
  },
  {
   "cell_type": "code",
   "execution_count": 26,
   "metadata": {},
   "outputs": [
    {
     "data": {
      "text/plain": [
       "array([0.99320348, 0.99542534, 0.99506914, 1.00549516, 0.98140095])"
      ]
     },
     "execution_count": 26,
     "metadata": {},
     "output_type": "execute_result"
    }
   ],
   "source": [
    "from sklearn.linear_model import LinearRegression\n",
    "\n",
    "reg = LinearRegression().fit(X, y)\n",
    "reg.coef_"
   ]
  },
  {
   "cell_type": "code",
   "execution_count": 27,
   "metadata": {},
   "outputs": [],
   "source": [
    "def divisive_shap_approx(S, v, beta, gamma_n, gamma_d):\n",
    "    pass\n",
    "\n",
    "def shapley_true(S, v):\n",
    "    pass\n",
    "\n",
    "def partition(S, v):\n",
    "    pass\n"
   ]
  }
 ],
 "metadata": {
  "kernelspec": {
   "display_name": "Python 3",
   "language": "python",
   "name": "python3"
  },
  "language_info": {
   "codemirror_mode": {
    "name": "ipython",
    "version": 3
   },
   "file_extension": ".py",
   "mimetype": "text/x-python",
   "name": "python",
   "nbconvert_exporter": "python",
   "pygments_lexer": "ipython3",
   "version": "3.10.7"
  },
  "orig_nbformat": 4
 },
 "nbformat": 4,
 "nbformat_minor": 2
}
