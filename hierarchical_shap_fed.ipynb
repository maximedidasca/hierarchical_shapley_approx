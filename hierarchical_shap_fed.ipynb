{
 "cells": [
  {
   "cell_type": "code",
   "execution_count": 1,
   "metadata": {},
   "outputs": [],
   "source": [
    "import numpy as np\n",
    "import matplotlib.pyplot as plt\n",
    "import itertools\n",
    "import math\n",
    "from sklearn.model_selection import train_test_split\n",
    "from sklearn.linear_model import LinearRegression\n",
    "import pandas as pd\n",
    "\n",
    "shape = (100, 16)\n",
    "n = shape[1]\n",
    "\n",
    "np.random.seed(10)\n",
    "X = np.random.randint(-5,6, size=shape) # Integers from -5 to 5\n",
    "y = np.sum(X, axis=1) # Sum of each row\n",
    "X = X + np.random.normal(0, .1, shape) # Add noise to input"
   ]
  },
  {
   "cell_type": "code",
   "execution_count": 2,
   "metadata": {},
   "outputs": [
    {
     "data": {
      "text/plain": [
       "(0.9993316174977624,\n",
       " array([0.98231329, 1.00293103, 1.01089872, 0.99780244, 1.01754801,\n",
       "        1.01399901, 1.01117047, 1.0116978 , 0.97996713, 1.0128416 ,\n",
       "        1.00504136, 1.01933667, 0.98243754, 0.98514289, 1.0177332 ,\n",
       "        1.00559587]))"
      ]
     },
     "execution_count": 2,
     "metadata": {},
     "output_type": "execute_result"
    }
   ],
   "source": [
    "reg = LinearRegression().fit(X, y)\n",
    "reg.score(X, y), reg.coef_"
   ]
  },
  {
   "cell_type": "code",
   "execution_count": 22,
   "metadata": {},
   "outputs": [],
   "source": [
    "def divisive_shap_approx(Xs, y, model, beta, gamma_n, gamma_d, num_splits = 2):\n",
    "    \"\"\"Xs is a dictionary:\n",
    "    {\n",
    "        party1: X1,\n",
    "        party2: X2,\n",
    "        ...\n",
    "    }\n",
    "\n",
    "    where each X is a dataframe (to conserve rows)\n",
    "    \"\"\"\n",
    "    parties_to_split = {}\n",
    "    for party, X in Xs.items():\n",
    "        if X.shape[1] > np.emath.logn(beta, n):\n",
    "            parties_to_split[party] = X\n",
    "        else:\n",
    "            shap = shapley_true(X.to_numpy(), y, model)\n",
    "            shap = shap*gamma_n/gamma_d\n",
    "            results[party].append([X, shap])\n",
    "\n",
    "    if len(parties_to_split) > 0:\n",
    "        Xs_split = partition(parties_to_split, num_splits)\n",
    "        gamma_n * np.mean([value(X.to_numpy(), y, model) for X in parties_to_split.values()])\n",
    "        gamma_d * np.mean([sum([value(Xi.to_numpy(), y, model) for Xi in Xs]) for Xs in Xs_split.values()])\n",
    "\n",
    "        for i in range(num_splits):\n",
    "            divisive_shap_approx({party:Xs[i] for party, Xs in Xs_split.items()}, \n",
    "                                          y, \n",
    "                                          model,\n",
    "                                          beta,\n",
    "                                          gamma_n , \n",
    "                                          gamma_d)\n",
    "\n",
    "def value(X, y, model):\n",
    "    if X.size == 0:\n",
    "        return 0\n",
    "    else:\n",
    "        reg = model.fit(X, y)\n",
    "        return reg.score(X, y)\n",
    "        \n",
    "\n",
    "def findsubsets(s, n):\n",
    "    return list(itertools.combinations(s, n))\n",
    "\n",
    "\n",
    "def shapley_true(X, y, model):\n",
    "    \"\"\"Returns true shapley value of each feature (numpy array)\"\"\"\n",
    "    N = X.shape[1]\n",
    "    shap = np.zeros(N)\n",
    "    for i in range(N):\n",
    "        other_features = set(range(N))\n",
    "        other_features.remove(i)\n",
    "        subsets = [subset for j in range(N) for subset in findsubsets(other_features, j)]\n",
    "        for subset in subsets:\n",
    "            coeff = math.factorial(len(subset))*math.factorial(N - len(subset) - 1)/math.factorial(N)\n",
    "            shap[i] += coeff*(value(X[:,list(subset) + [i]], y, model)-value(X[:, list(subset)], y, model))\n",
    "    return np.array(shap)\n",
    "\n",
    "def partition(Xs, num_splits):\n",
    "    \"\"\"Returns dict of lists:\n",
    "    {\n",
    "        party1: [X1, X2, ...],\n",
    "        party2: [X1, X2, ...],\n",
    "        ...\n",
    "    }\n",
    "    \"\"\"\n",
    "\n",
    "    return {party: [x.T for x in train_test_split(X.T, test_size=0.5)] for party, X in Xs.items()}\n",
    "\n",
    "def main(Xs, y, model, beta):\n",
    "\n",
    "    # Run algorithm\n",
    "    divisive_shap_approx(Xs, y, model, beta, 1, 1)\n",
    "\n",
    "    # Concatenate results\n",
    "    results_concat = {}\n",
    "    for party, leafs in results.items():\n",
    "        X = pd.DataFrame()\n",
    "        shaps = []\n",
    "        for res in leafs:\n",
    "            X = pd.concat([X, res[0]], axis = 1)\n",
    "            shaps = np.concatenate((shaps, res[1]))\n",
    "        results_concat[party] = [X, shaps]\n",
    "\n",
    "    # Scale results\n",
    "    results_scaled = {party:[shaps[0], shaps[1] * value(shaps[0].to_numpy(),y,model)] for party, shaps in results_concat.items()}\n",
    "    # sum to 1\n",
    "    shap_sum = sum([s for shaps in results_scaled.values() for s in shaps[1]])\n",
    "    for party, shaps in results_scaled.items():\n",
    "        results_scaled[party][1] /= shap_sum\n",
    "\n",
    "\n",
    "    # Reorder results:\n",
    "    for party, shaps in results_scaled.items():\n",
    "        order = [shaps[0].columns.get_loc(feature) for feature in Xs[party].columns]\n",
    "        results_scaled[party] = results_scaled[party][1][order]\n",
    "\n",
    "    return results_scaled\n"
   ]
  },
  {
   "cell_type": "code",
   "execution_count": 27,
   "metadata": {},
   "outputs": [],
   "source": [
    "shape = (10000, 64)\n",
    "num_parties = 4\n",
    "n = shape[1]//num_parties\n",
    "\n",
    "np.random.seed(10)\n",
    "X = np.random.randint(-5,6, size=shape) # Integers from -5 to 5\n",
    "\n",
    "X[:,4] *= 4\n",
    "X[:,10] *= 10\n",
    "X[:,16] *= 5\n",
    "\n",
    "y = np.sum(X, axis=1) # Sum of each row\n",
    "X = X + np.random.normal(0, .1, shape) # Add noise to input\n",
    "X = pd.DataFrame(X)\n",
    "\n",
    "Xs = {}\n",
    "for i in range(num_parties):\n",
    " Xs[\"p\" + str(i)] = X.iloc[:,i*n:(i+1)*n]\n",
    "\n",
    "results = {key:[] for key in Xs.keys()}\n",
    "results = main(Xs, y, LinearRegression(), n**(1/np.sqrt(n)))\n",
    "\n",
    "#plt.hist(shap)\n",
    "#plt.show()"
   ]
  },
  {
   "cell_type": "code",
   "execution_count": 28,
   "metadata": {},
   "outputs": [
    {
     "data": {
      "text/plain": [
       "{'p0': array([0.00910632, 0.00446177, 0.00556525, 0.00746756, 0.1086809 ,\n",
       "        0.00635606, 0.00540294, 0.00872695, 0.00519434, 0.00702333,\n",
       "        0.68597376, 0.00528216, 0.00885626, 0.00652425, 0.00803665,\n",
       "        0.00683201]),\n",
       " 'p1': array([0.05368561, 0.00104174, 0.00245794, 0.00222307, 0.00144454,\n",
       "        0.00245725, 0.00224444, 0.00145047, 0.00305647, 0.00144745,\n",
       "        0.00191793, 0.00111504, 0.00186919, 0.00223541, 0.00345167,\n",
       "        0.00164297]),\n",
       " 'p2': array([0.00086156, 0.00055235, 0.00089096, 0.00073195, 0.00089917,\n",
       "        0.00073684, 0.00076796, 0.00110168, 0.00094893, 0.00085556,\n",
       "        0.0004592 , 0.0007392 , 0.00069391, 0.00072115, 0.00061683,\n",
       "        0.0004069 ]),\n",
       " 'p3': array([0.00062177, 0.00117301, 0.00048864, 0.00095895, 0.00060102,\n",
       "        0.00090532, 0.00084811, 0.00128474, 0.00074938, 0.00089167,\n",
       "        0.00144961, 0.00103531, 0.00102103, 0.00086232, 0.0011074 ,\n",
       "        0.00078585])}"
      ]
     },
     "execution_count": 28,
     "metadata": {},
     "output_type": "execute_result"
    }
   ],
   "source": [
    "results"
   ]
  }
 ],
 "metadata": {
  "kernelspec": {
   "display_name": "Python 3",
   "language": "python",
   "name": "python3"
  },
  "language_info": {
   "codemirror_mode": {
    "name": "ipython",
    "version": 3
   },
   "file_extension": ".py",
   "mimetype": "text/x-python",
   "name": "python",
   "nbconvert_exporter": "python",
   "pygments_lexer": "ipython3",
   "version": "3.9.11"
  },
  "orig_nbformat": 4
 },
 "nbformat": 4,
 "nbformat_minor": 2
}
